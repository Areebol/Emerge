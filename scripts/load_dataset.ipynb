{
 "cells": [
  {
   "cell_type": "code",
   "execution_count": 1,
   "metadata": {},
   "outputs": [],
   "source": [
    "import os\n",
    "os.environ['http_proxy']='127.0.0.1:30001'\n",
    "os.environ['https_proxy']='127.0.0.1:30001'\n",
    "from datasets import load_dataset"
   ]
  },
  {
   "cell_type": "markdown",
   "metadata": {},
   "source": [
    "### 加载数据集"
   ]
  },
  {
   "cell_type": "code",
   "execution_count": 5,
   "metadata": {},
   "outputs": [],
   "source": [
    "# cot datasets\n",
    "dataset = load_dataset(\"TIGER-Lab/MathInstruct\")\n",
    "dataset = load_dataset(\"kaist-ai/CoT-Collection\")\n",
    "\n",
    "# other datasets\n",
    "dataset = load_dataset(\"stanfordnlp/sst2\")\n",
    "dataset = load_dataset(\"ag_news\")\n",
    "dataset = load_dataset(\"trec\")\n",
    "dataset = load_dataset(\"EdinburghNLP/xsum\")\n",
    "dataset = load_dataset(\"Hello-SimpleAI/HC3\")\n",
    "dataset = load_dataset(\"sahil2801/CodeAlpaca-20k\")"
   ]
  },
  {
   "cell_type": "markdown",
   "metadata": {},
   "source": [
    "sst2 包含电影中的单句评价，用于语义分类任务"
   ]
  },
  {
   "cell_type": "code",
   "execution_count": 2,
   "metadata": {},
   "outputs": [
    {
     "name": "stderr",
     "output_type": "stream",
     "text": [
      "Using the latest cached version of the dataset since stanfordnlp/sst2 couldn't be found on the Hugging Face Hub\n",
      "Found the latest cached dataset configuration 'default' at /share/home/zhangshuhai/.cache/huggingface/datasets/stanfordnlp___sst2/default/0.0.0/8d51e7e4887a4caaa95b3fbebbf53c0490b58bbb (last modified on Mon May  6 15:25:14 2024).\n"
     ]
    },
    {
     "data": {
      "text/plain": [
       "['hide new secretions from the parental units ',\n",
       " 'contains no wit , only labored gags ',\n",
       " 'that loves its characters and communicates something rather beautiful about human nature ',\n",
       " 'remains utterly satisfied to remain the same throughout ',\n",
       " 'on the worst revenge-of-the-nerds clichés the filmmakers could dredge up ',\n",
       " \"that 's far too tragic to merit such superficial treatment \",\n",
       " 'demonstrates that the director of such hollywood blockbusters as patriot games can still turn out a small , personal film with an emotional wallop . ',\n",
       " 'of saucy ',\n",
       " \"a depressed fifteen-year-old 's suicidal poetry \"]"
      ]
     },
     "execution_count": 2,
     "metadata": {},
     "output_type": "execute_result"
    }
   ],
   "source": [
    "dataset = load_dataset(\"stanfordnlp/sst2\")\n",
    "dataset['train']['sentence'][:9]"
   ]
  },
  {
   "cell_type": "markdown",
   "metadata": {},
   "source": [
    "ag-news 包含新闻文章，用于语义分类任务"
   ]
  },
  {
   "cell_type": "code",
   "execution_count": 16,
   "metadata": {},
   "outputs": [
    {
     "data": {
      "text/plain": [
       "[\"Wall St. Bears Claw Back Into the Black (Reuters) Reuters - Short-sellers, Wall Street's dwindling\\\\band of ultra-cynics, are seeing green again.\",\n",
       " 'Carlyle Looks Toward Commercial Aerospace (Reuters) Reuters - Private investment firm Carlyle Group,\\\\which has a reputation for making well-timed and occasionally\\\\controversial plays in the defense industry, has quietly placed\\\\its bets on another part of the market.',\n",
       " \"Oil and Economy Cloud Stocks' Outlook (Reuters) Reuters - Soaring crude prices plus worries\\\\about the economy and the outlook for earnings are expected to\\\\hang over the stock market next week during the depth of the\\\\summer doldrums.\",\n",
       " 'Iraq Halts Oil Exports from Main Southern Pipeline (Reuters) Reuters - Authorities have halted oil export\\\\flows from the main pipeline in southern Iraq after\\\\intelligence showed a rebel militia could strike\\\\infrastructure, an oil official said on Saturday.',\n",
       " 'Oil prices soar to all-time record, posing new menace to US economy (AFP) AFP - Tearaway world oil prices, toppling records and straining wallets, present a new economic menace barely three months before the US presidential elections.',\n",
       " 'Stocks End Up, But Near Year Lows (Reuters) Reuters - Stocks ended slightly higher on Friday\\\\but stayed near lows for the year as oil prices surged past  #36;46\\\\a barrel, offsetting a positive outlook from computer maker\\\\Dell Inc. (DELL.O)',\n",
       " \"Money Funds Fell in Latest Week (AP) AP - Assets of the nation's retail money market mutual funds fell by  #36;1.17 billion in the latest week to  #36;849.98 trillion, the Investment Company Institute said Thursday.\",\n",
       " 'Fed minutes show dissent over inflation (USATODAY.com) USATODAY.com - Retail sales bounced back a bit in July, and new claims for jobless benefits fell last week, the government said Thursday, indicating the economy is improving from a midsummer slump.',\n",
       " 'Safety Net (Forbes.com) Forbes.com - After earning a PH.D. in Sociology, Danny Bazil Riley started to work as the general manager at a commercial real estate firm at an annual base salary of  #36;70,000. Soon after, a financial planner stopped by his desk to drop off brochures about insurance benefits available through his employer. But, at 32, \"buying insurance was the furthest thing from my mind,\" says Riley.']"
      ]
     },
     "execution_count": 16,
     "metadata": {},
     "output_type": "execute_result"
    }
   ],
   "source": [
    "dataset = load_dataset(\"ag_news\")\n",
    "dataset['train']['text'][:9]"
   ]
  },
  {
   "cell_type": "markdown",
   "metadata": {},
   "source": [
    "trec 包含人工构建的问题，用于语义分类任务"
   ]
  },
  {
   "cell_type": "code",
   "execution_count": 18,
   "metadata": {},
   "outputs": [
    {
     "data": {
      "text/plain": [
       "['How did serfdom develop in and then leave Russia ?',\n",
       " 'What films featured the character Popeye Doyle ?',\n",
       " \"How can I find a list of celebrities ' real names ?\",\n",
       " 'What fowl grabs the spotlight after the Chinese Year of the Monkey ?',\n",
       " 'What is the full form of .com ?',\n",
       " 'What contemptible scoundrel stole the cork from my lunch ?',\n",
       " \"What team did baseball 's St. Louis Browns become ?\",\n",
       " 'What is the oldest profession ?',\n",
       " 'What are liver enzymes ?']"
      ]
     },
     "execution_count": 18,
     "metadata": {},
     "output_type": "execute_result"
    }
   ],
   "source": [
    "dataset = load_dataset(\"trec\")\n",
    "dataset['train']['text'][:9]"
   ]
  },
  {
   "cell_type": "markdown",
   "metadata": {},
   "source": [
    "xsum 包含文章及文章总结，用于文本总结任务"
   ]
  },
  {
   "cell_type": "code",
   "execution_count": 3,
   "metadata": {},
   "outputs": [
    {
     "name": "stderr",
     "output_type": "stream",
     "text": [
      "Using the latest cached version of the dataset since EdinburghNLP/xsum couldn't be found on the Hugging Face Hub\n",
      "Found the latest cached dataset configuration 'default' at /share/home/zhangshuhai/.cache/huggingface/datasets/EdinburghNLP___xsum/default/1.2.0/40db7604fedb616a9d2b0673d11838fa5be8451c (last modified on Mon May  6 15:37:10 2024).\n"
     ]
    },
    {
     "data": {
      "text/plain": [
       "['Document:The full cost of damage in Newton Stewart, one of the areas worst affected, is still being assessed.\\nRepair work is ongoing in Hawick and many roads in Peeblesshire remain badly affected by standing water.\\nTrains on the west coast mainline face disruption due to damage at the Lamington Viaduct.\\nMany businesses and householders were affected by flooding in Newton Stewart after the River Cree overflowed into the town.\\nFirst Minister Nicola Sturgeon visited the area to inspect the damage.\\nThe waters breached a retaining wall, flooding many commercial properties on Victoria Street - the main shopping thoroughfare.\\nJeanette Tate, who owns the Cinnamon Cafe which was badly affected, said she could not fault the multi-agency response once the flood hit.\\nHowever, she said more preventative work could have been carried out to ensure the retaining wall did not fail.\\n\"It is difficult but I do think there is so much publicity for Dumfries and the Nith - and I totally appreciate that - but it is almost like we\\'re neglected or forgotten,\" she said.\\n\"That may not be true but it is perhaps my perspective over the last few days.\\n\"Why were you not ready to help us a bit more when the warning and the alarm alerts had gone out?\"\\nMeanwhile, a flood alert remains in place across the Borders because of the constant rain.\\nPeebles was badly hit by problems, sparking calls to introduce more defences in the area.\\nScottish Borders Council has put a list on its website of the roads worst affected and drivers have been urged not to ignore closure signs.\\nThe Labour Party\\'s deputy Scottish leader Alex Rowley was in Hawick on Monday to see the situation first hand.\\nHe said it was important to get the flood protection plan right but backed calls to speed up the process.\\n\"I was quite taken aback by the amount of damage that has been done,\" he said.\\n\"Obviously it is heart-breaking for people who have been forced out of their homes and the impact on businesses.\"\\nHe said it was important that \"immediate steps\" were taken to protect the areas most vulnerable and a clear timetable put in place for flood prevention plans.\\nHave you been affected by flooding in Dumfries and Galloway or the Borders? Tell us about your experience of the situation and how it was handled. Email us on selkirk.news@bbc.co.uk or dumfries@bbc.co.uk.Summary:Defending Pro12 champions Glasgow Warriors bagged a late bonus-point victory over the Dragons despite a host of absentees and two yellow cards.']"
      ]
     },
     "execution_count": 3,
     "metadata": {},
     "output_type": "execute_result"
    }
   ],
   "source": [
    "dataset = load_dataset(\"EdinburghNLP/xsum\")\n",
    "texts = [f\"Document:{document}Summary:{summary}\" for document,summary in zip(dataset['train']['document'][0:9],dataset['train']['summary'][5:6])]\n",
    "texts"
   ]
  },
  {
   "cell_type": "markdown",
   "metadata": {},
   "source": [
    "hc3"
   ]
  },
  {
   "cell_type": "code",
   "execution_count": 7,
   "metadata": {},
   "outputs": [
    {
     "name": "stderr",
     "output_type": "stream",
     "text": [
      "Using the latest cached version of the module from /share/home/zhangshuhai/.cache/huggingface/modules/datasets_modules/datasets/Hello-SimpleAI--HC3/5af5910f9f3fe7aace30e32ad4c1ab776ca08183d00e9b2a091308549f69f683 (last modified on Mon May  6 15:20:12 2024) since it couldn't be found locally at Hello-SimpleAI/HC3, or remotely on the Hugging Face Hub.\n"
     ]
    }
   ],
   "source": [
    "dataset = load_dataset(\"Hello-SimpleAI/HC3\",\"all\")"
   ]
  },
  {
   "cell_type": "code",
   "execution_count": 4,
   "metadata": {},
   "outputs": [
    {
     "data": {
      "text/plain": [
       "DatasetDict({\n",
       "    train: Dataset({\n",
       "        features: ['id', 'question', 'human_answers', 'chatgpt_answers', 'source'],\n",
       "        num_rows: 24322\n",
       "    })\n",
       "})"
      ]
     },
     "execution_count": 4,
     "metadata": {},
     "output_type": "execute_result"
    }
   ],
   "source": [
    "dataset"
   ]
  },
  {
   "cell_type": "code",
   "execution_count": 11,
   "metadata": {},
   "outputs": [
    {
     "data": {
      "text/plain": [
       "['Question:Why is every book I hear about a \" NY Times # 1 Best Seller \"?ELI5 : Why is every book I hear about a \" NY Times # 1 Best Seller \"?Should n\\'t there only be one \" # 1 \" best seller?Please explain like I\\'m five.Human_answers:Basically there are many categories of \" Best Seller \". Replace \" Best Seller \" by something like \" Oscars \" and every \" best seller \" book is basically an \" oscar - winning \" book. May not have won the \" Best film \" , but even if you won the best director or best script , you \\'re still an \" oscar - winning \" film. Same thing for best sellers. Also , IIRC the rankings change every week or something like that. Some you might not be best seller one week , but you may be the next week. I guess even if you do n\\'t stay there for long , you still achieved the status. Hence , # 1 best seller.',\n",
       " \"Question:If salt is so bad for cars , why do we use it on the roads?As the title states , why do we use it?is there no other option or what?Please explain like I'm five.Human_answers:salt is good for not dying in car crashes and car crashes are worse for cars then salt. Some places use other things , but salt is really cheap compared to most alternatives , although sand is pretty good.\",\n",
       " \"Question:Why do we still have SD TV channels when HD looks like SD on an old TV?Could n't we just have the HD version of the channels & delete the SD ones?Please explain like I'm five.Human_answers:The way it works is that old TV stations got a certain amount of bandwidth to replace their old analog TV stations. However , HD takes up more bandwidth then SD - so the stations can choose between 2 or 3 HD stations , or like 7 or 8 SD stations ( or a mix of both ) They can do a bunch of SD stations and make more money in advertizing by running 7 or 8 different reruns of old SD TV shows at a time In fact , those stations often got permanent rights to show an unlimited number of reruns of old syndicated shows in perpetuity. That means they do n't even have to pay anyone to air old eppisodes of _ Star Trek _ or _ Alf _ So basically it 's free money for them , based on being around for a long , long time and having their old rights get upgraded as new technology comes out.\",\n",
       " \"Question:Why has nobody assassinated Kim Jong - un He is such a pest and nuisance to basically the entire world except for China. Why has n't anyone had him assassinated yet?Please explain like I'm five.Human_answers:You ca n't just go around assassinating the leaders of countries you do nt like ! The international condemnation would be brutal. Even though noone likes Kim Jong - Un , and everyone thinks North Korea is pretty shitty to its citizens , if say the US were to send agents over ( and do n't think they are n't capable of it ) and they got caught.... every country , every world leader would be a potential target. Who 's next... Castro?Angela Merkel?Anyways , rumour has it that he 's ultra paranoid about exactly that and travels around in tanks and armoured trains that make Limo 1 look like a tonka toy.\",\n",
       " \"Question:How was airplane technology able to advance so quickly after the Wright Brothers ' first flight?Mainly interested in how aviation was able to be deployed on a large scale during WWI. Please explain like I'm five.Human_answers:Wanting to kill the shit out of Germans drives innovation.\",\n",
       " \"Question:Why do humans have different colored eyes?What causes / caused people to have different colors of eyes?Is there a point to the color of your eyes other than superstitions?Please explain like I'm five.Human_answers:Melanin ! Many of the the first known humans existed in the fertile crescent - modern day Iraq and surrounding areas , and it was just as sunny and hot as it is today. Melanin causes skin and eyes to have a darker color , and as a benefit reduced the amount of UV radiation absorbed into the skin. Eventually humans expanded into less hot and sunlit areas allowing for the survival and procreation of people who developed lighter colored eyes and skin because of the lack of need of melanin for survival.\",\n",
       " \"Question:Why I can not fabricate a religion that prevents me from going to school , then cite my first amendment rights when I am charged?Prevents me from going to school by having , for example , supposed prayer times that coincide with school hours. Thanks ! Please explain like I'm five.Human_answers:Because you 're a minor and your parents get to make that choice for you. Specifically to keep you from doing dumb shit like this. Now go to bed , you are going to school tomorrow.\",\n",
       " \"Question:What has changed that we frequently now throw away products instead of fixing them?Is it the quality or nature of the products themselves , or more cultural in origin?Please explain like I'm five.Human_answers:It 's three fold : * Stuff is cheaper to mass produce now then it used to be , making it easy to replace something * Fixing something that 's broken is almost always not a mass - production task. It require human time and effort and unique problem solving skills depending on the issue. This has always been expensive , and is still expensive today. * Many things today are completely impossible for the average person to fix , often not due to people trying to prevent it , but because things are so complicated today , that it 's nearly impossible to be able to fix all the kinds of things you use , compared to 200 years ago when you only used a small set of tools and items which were all relatively simple.\",\n",
       " 'Question:magic the gathering What is it. how popular is it. who plays it. The culture behind it.. etc. etc I have been hearing more and more about it , and after last nights South Park episode I became curious what it is.. Please explain like I\\'m five.Human_answers:EDIT , Nov 21 : By popular demand , now includes Midrange decks and Limited formats. Also , a new section on where players get their cards. Magic : The Gathering is a collectable card game. It can be played in several different formats , but in the most common , two players create decks out of the cards they own and play against each other. Generally , the cards in a deck are either lands or spells. Lands provide the energy needed to cast spells , and spells usually do one of the following : - Summon a creature that can fight for you or an artifact that you can use. ( * * Creatures * * and * * Artifacts * * ) - Create a lasting effect that affects the game as a whole or one or more cards in play. ( * * Enchantments * * ) - Create an instantaneous effect that affects one or more cards in play or an effect that lasts a single turn. ( * * Sorceries * * and * * Instants * * ) - Summon a sort of \" teammate \" that has its own abilities. ( * * Planeswalkers * * ) The primary goal is to run your opponent out of life points by attacking him with creatures or damaging him directly with spells. There are other ways to win , such as running your opponent out of cards in his deck. The gameplay is complex. The players take turns , but many types of spells can be cast on an opponent \\'s turn , or in response to a spell that they are trying to cast. A critical play by one player may be countered by the other , and that counter itself countered by the first. There are many thousands of cards out there , and you are not expected to know about them all. The Comprehensive Rules ( * not * including the text of cards ) are nearly two hundred pages , although a lot of that consists of old mechanics that are rarely used or highly - specified details that are rarely relevant. The learning curve is pretty steep , but a few games suffice to learn the basic rules. The complexity is more similar to Dungeons and Dragons than to most card games. A key feature of M : tG is the concept of * * color * *. There are five colors : Red , Green , White , Blue , Black. Each is \" allied \" to two others and \" opposed \" to the two others. Most spells require mana of a certain color to cast , which is produced by different types of land cards. Each color has distinct strengths and weaknesses – for example , blue has the best counterspells , but it \\'s not very good at simply hitting things. A given deck will usually use from one to three colors of card , although in some situations decks with four or five colors can work. In addition , it is often considered that there are three general archetypes of deck ( with a * lot * of variation within each category ) : - * * Aggro * * decks focus on dealing damage ASAP to win ASAP. They usually have cheap creatures ( \" weenies \" ) that can be used right away and \" buff\"-type spells to eke out a few more points of damage. They usually win fast or not at all , because they often ca n\\'t stand up to the more powerful creatures and spells that are played later in the game. - * * Control * * decks focus on preventing the opponent from acting until the player is ready to win with powerful spells or abilities. They run a lot of counterspells , destruction spells , and things that make action more expensive for the opponent , along with a few creatures strong on defense and disruption. They usually win by using cheap defenses against expensive attacks until they are ready to overwhelm the opponent with their accumulated strength , and lose if they just ca n\\'t stay ahead of the enemy \\'s attacks. - * * Combo * * decks rely on a few combinations of cards that can lead to a near - instant victory. There * are * infinite combos in M : tG , but they \\'re designed to be difficult or resource - intensive to pull off. A combo deck will usually run ( in addition to the all - important combo pieces ) \" tutor \" cards that let them search their deck , protection cards to guard the combo pieces , and just enough stall cards to prevent a quick defeat. A combo deck wins when it gets its combo in place before losing , and loses if it ca n\\'t get the combo out in time or ca n\\'t protect it long enough to use it. - * * Midrange * * decks are a common intermediate archetype between Aggro and Control. Midrange tries to beat down the opponent with damage from powerful creatures ( colloquially , \" fatties \" ) rather than with cheap ones ( \" weenies \" ). These decks have to run enough control to stay alive until the big hitters come out. They win when they get the hitters out early enough to do lethal damage , and lose when they ca n\\'t get the big guys out at all ( being out - controlled ) or when they just take too much of a beating too early ( being out - aggro\\'d ). --- Many different kinds of people play M : tG. There are professional players who win large sums at tournaments , groups of friends who play casually on the weekends , and everything in between. If you \\'re playing competitively , it can be absurdly expensive , as you can not compromise on getting the perfect cards for your deck , but if you and your opponents are playing casually , it \\'s a lot cheaper. The most common formats are as follows. Two - player games are the norm for tournaments , but casual matches are often multiplayer. * * Constructed * * formats call for pre - constructed decks built from each player \\'s personal collection : - * * Standard * * : Decks are made of cards printed in about the last 18 months. - * * Modern * * : Decks are made of cards printed since about 2003 ( minus a ban list ). - * * Legacy * * : Decks are made of * any * cards ( minus a ban list ). - * * Vintage * * : Decks are made of * any * cards ( minus a * very small * ban list ). - * * Commander * * ( or \" EDH \" ): Decks are made of * any * cards ( minus a ban list ) , but limited to one of each card. One creature card is designated as your \" commander \" and is nearly always available for summoning. A popular multiplayer format. * * Limited * * formats feature decks made on the spot from a limited pool of cards : - * * Sealed * * : Each player opens several randomized booster packs and makes a deck from the contents. - * * Draft * * : A group of players open many packs and use a system to pick their cards from the contents , then build a deck from what they have. These formats cost money each time to play , because you need to buy booster packs. However , you can play them without having any of your own cards beforehand. Limited play can be a good way to pick up more cards. A relatively new casual format is * * Cube * * , in which you and your group put together a large pile of cards beforehand and use them in place of booster packs. This eliminates the recurring expense , although you need to have enough cards beforehand. There are others formats , including Conspiracy , Planechase , Pauper ( use no rare cards ). Two - Headed Giant ( play with a partner ) , and many more. Formats that allow older cards tend to be more expensive , because the cards have been out of print for a long time. Commander is a bit cheaper than other formats that allow old cards , because you only can have one of each card ( other formats usually allow up to four of each card ). I play Commander with my D & D group. None of us puts that much money into it , and we try to keep it more fun than competitive. Some of the players also play in local mini - tournaments on Friday nights ( \" Friday Night Magic \" ) , usually breaking about even. --- So , where does one get cards?Most cards come from randomized booster packs with 15 cards each. Cards from a given set are designated either common , uncommon , rare , or \" mythic rare \". You can buy booster packs for around $ 3.50 USD from retailers , or you can buy them as part of a limited tournament. There are also pre - made decks that you can buy directly from Wizards of the Coast. Each one has a theme and cards intended to work together. You wo n\\'t win any tournaments with a pre - made deck , but it can be a good starting point. In addition , there are a couple of products intended for beginners , such as the \" Deck - builder \\'s toolkit \" with a semi - randomized selection of cards and a big stack of common lands. ( Common lands are dirt cheap , but it would take quite a few booster packs to get enough to build a deck. ) Most M : tG players trade cards with their friends or at events to get the specific cards they need. In addition , there is a thriving market of single cards at game stores and online. Some very , very old cards are very , very rare and expensive. A single [ Black Lotus ] ( URL_0 ) can cost many thousands of dollars. But these cards are not legal in most formats , and most players will never have seen one in person. When playing casually , your group may allow the use of \" proxy \" cards to substitute for the pricey ones. Myself , I \\'ve only been playing for a year or so , and I do n\\'t actually own my own cards ! ( My friends have a ton of extra decks to lend out. ) I \\'m planning to build my own Commander deck soon , and I \\'ll be starting from a pre - made deck from Wizards and supplementing it primarily with trades with friends and singles from the internet.']"
      ]
     },
     "execution_count": 11,
     "metadata": {},
     "output_type": "execute_result"
    }
   ],
   "source": [
    "texts = [f\"Question:{question}Human_answers:{human_answers[0]}\".replace(\" .\", \".\").replace(\" ? \",\"?\").replace(\"\\n\",\"\") for question,human_answers in zip(dataset['train']['question'][0:9],dataset['train']['human_answers'][0:9])]\n",
    "texts"
   ]
  },
  {
   "cell_type": "markdown",
   "metadata": {},
   "source": [
    "Code 数据集"
   ]
  },
  {
   "cell_type": "code",
   "execution_count": 2,
   "metadata": {},
   "outputs": [
    {
     "data": {
      "text/plain": [
       "Dataset({\n",
       "    features: ['output', 'instruction', 'input'],\n",
       "    num_rows: 20022\n",
       "})"
      ]
     },
     "execution_count": 2,
     "metadata": {},
     "output_type": "execute_result"
    }
   ],
   "source": [
    "dataset = load_dataset(\"sahil2801/CodeAlpaca-20k\")\n",
    "dataset['train']"
   ]
  },
  {
   "cell_type": "code",
   "execution_count": 8,
   "metadata": {},
   "outputs": [
    {
     "data": {
      "text/plain": [
       "{'output': 'arr = [2, 4, 6, 8, 10]',\n",
       " 'instruction': 'Create an array of length 5 which contains all even numbers between 1 and 10.',\n",
       " 'input': ''}"
      ]
     },
     "execution_count": 8,
     "metadata": {},
     "output_type": "execute_result"
    }
   ],
   "source": [
    "dataset['train'][0]"
   ]
  }
 ],
 "metadata": {
  "kernelspec": {
   "display_name": "base",
   "language": "python",
   "name": "python3"
  },
  "language_info": {
   "codemirror_mode": {
    "name": "ipython",
    "version": 3
   },
   "file_extension": ".py",
   "mimetype": "text/x-python",
   "name": "python",
   "nbconvert_exporter": "python",
   "pygments_lexer": "ipython3",
   "version": "3.12.2"
  }
 },
 "nbformat": 4,
 "nbformat_minor": 2
}
